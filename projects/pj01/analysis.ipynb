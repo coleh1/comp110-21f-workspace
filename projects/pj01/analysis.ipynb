{
 "cells": [
  {
   "cell_type": "markdown",
   "metadata": {},
   "source": [
    "# PJ01: I think that students who are more interested in the course, are more likely to recommend this course to other students in the Fall!"
   ]
  },
  {
   "cell_type": "markdown",
   "metadata": {},
   "source": [
    " ### I define a positve response as a response where a student is interested in the course/material or would recommend the course to other students.  These are responses from 5-7.  Neutral responses are 4.  Negative responses are from 1-3.  Negative responses are where a student is not interested in the material or would not recommend the class.  Signed below is my PID."
   ]
  },
  {
   "cell_type": "code",
   "execution_count": 1,
   "metadata": {},
   "outputs": [],
   "source": [
    "__author__ = \"730400371\""
   ]
  },
  {
   "cell_type": "markdown",
   "metadata": {},
   "source": [
    "## First, I will start the auto-reload."
   ]
  },
  {
   "cell_type": "code",
   "execution_count": 2,
   "metadata": {},
   "outputs": [],
   "source": [
    "%reload_ext autoreload\n",
    "%autoreload 2"
   ]
  },
  {
   "cell_type": "markdown",
   "metadata": {},
   "source": [
    "## Then I will read in the csv and convert it to a column-oriented data table."
   ]
  },
  {
   "cell_type": "code",
   "execution_count": 3,
   "metadata": {},
   "outputs": [],
   "source": [
    "from data_utils import read_csv_rows, columnar\n",
    "\n",
    "data_rows: list[dict[str, str]] = read_csv_rows('../../data/survey.csv')\n",
    "columns: dict[str, list[str]] = columnar(data_rows)"
   ]
  },
  {
   "cell_type": "markdown",
   "metadata": {},
   "source": [
    "## Next, I will select the 'interesting' and 'would_recommend' columns, and tabulate a table of the first five rows for demonstration."
   ]
  },
  {
   "cell_type": "code",
   "execution_count": 4,
   "metadata": {},
   "outputs": [
    {
     "data": {
      "text/html": [
       "<table>\n",
       "<thead>\n",
       "<tr><th style=\"text-align: right;\">  interesting</th><th style=\"text-align: right;\">  would_recommend</th></tr>\n",
       "</thead>\n",
       "<tbody>\n",
       "<tr><td style=\"text-align: right;\">            5</td><td style=\"text-align: right;\">                7</td></tr>\n",
       "<tr><td style=\"text-align: right;\">            7</td><td style=\"text-align: right;\">                7</td></tr>\n",
       "<tr><td style=\"text-align: right;\">            7</td><td style=\"text-align: right;\">                7</td></tr>\n",
       "<tr><td style=\"text-align: right;\">            5</td><td style=\"text-align: right;\">                7</td></tr>\n",
       "<tr><td style=\"text-align: right;\">            6</td><td style=\"text-align: right;\">                7</td></tr>\n",
       "</tbody>\n",
       "</table>"
      ],
      "text/plain": [
       "'<table>\\n<thead>\\n<tr><th style=\"text-align: right;\">  interesting</th><th style=\"text-align: right;\">  would_recommend</th></tr>\\n</thead>\\n<tbody>\\n<tr><td style=\"text-align: right;\">            5</td><td style=\"text-align: right;\">                7</td></tr>\\n<tr><td style=\"text-align: right;\">            7</td><td style=\"text-align: right;\">                7</td></tr>\\n<tr><td style=\"text-align: right;\">            7</td><td style=\"text-align: right;\">                7</td></tr>\\n<tr><td style=\"text-align: right;\">            5</td><td style=\"text-align: right;\">                7</td></tr>\\n<tr><td style=\"text-align: right;\">            6</td><td style=\"text-align: right;\">                7</td></tr>\\n</tbody>\\n</table>'"
      ]
     },
     "execution_count": 4,
     "metadata": {},
     "output_type": "execute_result"
    }
   ],
   "source": [
    "from data_utils import head, select\n",
    "from tabulate import tabulate\n",
    "subset: dict[str, list [str]] = select(columns, [\"interesting\", \"would_recommend\"])\n",
    "tabulate(head(subset, 5), subset.keys(), \"html\")"
   ]
  },
  {
   "cell_type": "markdown",
   "metadata": {},
   "source": [
    "## Now, I will count the total positive. negative, and neutral responses for both the 'interesting' (in) and 'would_recommend' (wr) columns.  I will also determine the total number of responses and make sure they are equal to each other."
   ]
  },
  {
   "cell_type": "code",
   "execution_count": 5,
   "metadata": {},
   "outputs": [
    {
     "name": "stdout",
     "output_type": "stream",
     "text": [
      "A positive response is defined as a value from 5-7, a negative response is defined as a value 1-3, and a neutral response is defined as a value of 4.\n",
      "Interesting had a total of 479 positive responses, 56 neutral responses, and 38 negative responses.\n",
      "Would_recommend had a total of 423 positive responses, 88 neutral responses, and 62 negative responses.\n",
      "There were 573 responses for both.\n"
     ]
    }
   ],
   "source": [
    "from data_utils import count\n",
    "counts_in = count(subset[\"interesting\"])\n",
    "counts_wr = count(subset[\"would_recommend\"])\n",
    "\n",
    "total_positive_in: int = (counts_in['5']) + (counts_in['6']) + (counts_in['7'])\n",
    "total_neutral_in: int = (counts_in['4'])\n",
    "total_negative_in: int = (counts_in['1']) + (counts_in['2']) + (counts_in['3'])\n",
    "\n",
    "total_positive_wr: int = (counts_wr['5']) + (counts_wr['6']) + (counts_wr['7'])\n",
    "total_neutral_wr: int = (counts_wr['4'])\n",
    "total_negative_wr: int = (counts_wr['1']) + (counts_wr['2']) + (counts_wr['3'])\n",
    "\n",
    "sum_interesting: int = total_positive_in + total_neutral_in + total_negative_in\n",
    "sum_would_recommend: int = total_positive_wr + total_neutral_wr + total_negative_wr\n",
    "\n",
    "\n",
    "print(\"A positive response is defined as a value from 5-7, a negative response is defined as a value 1-3, and a neutral response is defined as a value of 4.\")\n",
    "print(f\"Interesting had a total of {total_positive_in} positive responses, {total_neutral_in} neutral responses, and {total_negative_in} negative responses.\")\n",
    "print(f\"Would_recommend had a total of {total_positive_wr} positive responses, {total_neutral_wr} neutral responses, and {total_negative_wr} negative responses.\")\n",
    "if sum_interesting == sum_would_recommend:\n",
    "    print(f\"There were {sum_interesting} responses for both.\")\n",
    "else:\n",
    "    print(f\"There were {sum_interesting} responses for 'interesting and {sum_would_recommend} responses for 'would_recommend'.\")"
   ]
  },
  {
   "cell_type": "markdown",
   "metadata": {},
   "source": [
    "## Then I will calculate the number of times that individuals gave a positive response for both 'interesting' and 'would recommend'.  I will also calculate the probability of an individual responding positively for 'would_recommend', once they have already responded positively for 'intresting'.  I will implement a helper function called 'count_2var' that will count the number of times that two values appear at the same time within two lists in a dictionary.  This helper function is also useful because it converts 'str' to 'int'.  I calculate the the probability of an individual responding positively for 'would_recommend', once they have already responded positively for 'intresting', by dividing the total number of responses where individuals gave a positive response for both 'interesting' and 'would recommend', by the total number of positive responses for 'intereseting'."
   ]
  },
  {
   "cell_type": "code",
   "execution_count": 6,
   "metadata": {},
   "outputs": [
    {
     "name": "stdout",
     "output_type": "stream",
     "text": [
      "The number of times that a person who left a positive response for both 'interesting' and 'would recommend' is 390.\n",
      "This means that if an individual left a response between 4 and 7 for the 'interesting' question, there would be a 81.41962421711901% probability that they would also respond between 4 and 7 for the 'would_recommend' question.\n"
     ]
    }
   ],
   "source": [
    "from data_utils import count_2var, select, head\n",
    "\n",
    "subset_1: dict[str, list [str]] = select(columns, [\"interesting\", \"would_recommend\"])\n",
    "total: int = count_2var(head(subset_1, 573), \"interesting\", \"would_recommend\")\n",
    "print(f\"The number of times that a person who left a positive response for both 'interesting' and 'would recommend' is {total}.\")\n",
    "print(f\"This means that if an individual left a response between 4 and 7 for the 'interesting' question, there would be a {total/total_positive_in*100}% probability that they would also respond between 4 and 7 for the 'would_recommend' question.\")"
   ]
  },
  {
   "cell_type": "markdown",
   "metadata": {},
   "source": [
    "## I will now plot the number of responses for 1-7, for both questions. I will synthesize two graphs, one for each."
   ]
  },
  {
   "cell_type": "code",
   "execution_count": 7,
   "metadata": {},
   "outputs": [
    {
     "data": {
      "text/plain": [
       "<BarContainer object of 7 artists>"
      ]
     },
     "execution_count": 7,
     "metadata": {},
     "output_type": "execute_result"
    },
    {
     "data": {
      "image/png": "[encoded data removed]",
      "text/plain": [
       "<Figure size 864x360 with 2 Axes>"
      ]
     },
     "metadata": {
      "needs_background": "light"
     },
     "output_type": "display_data"
    }
   ],
   "source": [
    "from matplotlib import pyplot as plt\n",
    "from data_utils import count\n",
    "\n",
    "interesting_counts: dict[str, int] = count(subset[\"interesting\"])\n",
    "would_recommend_counts: dict[str, int] = count(subset[\"would_recommend\"])\n",
    "\n",
    "from matplotlib import pyplot as plt\n",
    "\n",
    "fig, axes = plt.subplots(1, 2, figsize=(12, 5), sharey=True)\n",
    "fig.suptitle(\"Interesting and Would_recommend Responses\")\n",
    "\n",
    "\n",
    "axes[0].set_title(\"Interesting\")\n",
    "axes[0].bar(interesting_counts.keys(), interesting_counts.values())\n",
    "\n",
    "axes[1].set_title(\"Would_recommend\")\n",
    "axes[1].bar(would_recommend_counts.keys(), would_recommend_counts.values())"
   ]
  },
  {
   "cell_type": "markdown",
   "metadata": {},
   "source": [
    "## I will also create a table showing the totals for each the positive, negative, and neutral categories."
   ]
  },
  {
   "cell_type": "code",
   "execution_count": 8,
   "metadata": {},
   "outputs": [
    {
     "data": {
      "text/html": [
       "<table>\n",
       "<thead>\n",
       "<tr><th style=\"text-align: right;\">  Interesting: pos, neg, neu</th><th style=\"text-align: right;\">  Would_recommend: pos, neg, neu</th></tr>\n",
       "</thead>\n",
       "<tbody>\n",
       "<tr><td style=\"text-align: right;\">                         479</td><td style=\"text-align: right;\">                             423</td></tr>\n",
       "<tr><td style=\"text-align: right;\">                          38</td><td style=\"text-align: right;\">                              62</td></tr>\n",
       "<tr><td style=\"text-align: right;\">                          56</td><td style=\"text-align: right;\">                              88</td></tr>\n",
       "</tbody>\n",
       "</table>"
      ],
      "text/plain": [
       "'<table>\\n<thead>\\n<tr><th style=\"text-align: right;\">  Interesting: pos, neg, neu</th><th style=\"text-align: right;\">  Would_recommend: pos, neg, neu</th></tr>\\n</thead>\\n<tbody>\\n<tr><td style=\"text-align: right;\">                         479</td><td style=\"text-align: right;\">                             423</td></tr>\\n<tr><td style=\"text-align: right;\">                          38</td><td style=\"text-align: right;\">                              62</td></tr>\\n<tr><td style=\"text-align: right;\">                          56</td><td style=\"text-align: right;\">                              88</td></tr>\\n</tbody>\\n</table>'"
      ]
     },
     "execution_count": 8,
     "metadata": {},
     "output_type": "execute_result"
    }
   ],
   "source": [
    "table: dict[str, list[int]] = {\"Interesting: pos, neg, neu\": [total_positive_in, total_negative_in, total_neutral_in], \"Would_recommend: pos, neg, neu\": [total_positive_wr, total_negative_wr,total_neutral_wr]}\n",
    "\n",
    "tabulate(table, table.keys(), \"html\")"
   ]
  },
  {
   "cell_type": "markdown",
   "metadata": {},
   "source": [
    "# Conclusion"
   ]
  },
  {
   "cell_type": "markdown",
   "metadata": {},
   "source": [
    "### My findings show that those who responded positively when asked if they thought the class/material was interesting, would be 81% likely to also respond positively when asked if they would recommend the class to others. My initial prediction was correct, and I was able ot prove my hypothesis.  I learned that if an individual finds the material of the class interesting, they are likely to recommend the class to others. This shows that those who like the material of this class are most likely biased when recommending this class to their peers. This presents a couple future questions. Could this bias potentially negatively impact those who are recommended this course by a peer? Especially those who wouldn't enjoy the material of this course?"
   ]
  }
 ],
 "metadata": {
  "interpreter": {
   "hash": "9405150df2bb1bbcc8562eadf875290560df84b7341b8c748710f912e87020f6"
  },
  "kernelspec": {
   "display_name": "Python 3.9.6 64-bit",
   "name": "python3"
  },
  "language_info": {
   "codemirror_mode": {
    "name": "ipython",
    "version": 3
   },
   "file_extension": ".py",
   "mimetype": "text/x-python",
   "name": "python",
   "nbconvert_exporter": "python",
   "pygments_lexer": "ipython3",
   "version": "3.9.6"
  },
  "orig_nbformat": 4
 },
 "nbformat": 4,
 "nbformat_minor": 2
}
